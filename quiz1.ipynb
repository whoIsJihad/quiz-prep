{
 "cells": [
  {
   "cell_type": "code",
   "execution_count": null,
   "metadata": {},
   "outputs": [],
   "source": [
    "import numpy as np\n",
    "import matplotlib.pyplot as plt \n",
    "np.zeros((4,4,5)) \n",
    "#creates a 3d numpy array initialised as zero \n",
    "#total 4 2D arrays with 4 rows and 5 cols \n",
    "\n",
    "np.zeros(3) \n",
    "# creates a 1d array of size 3 initialised as zero\n",
    "\n",
    "\n",
    "np.ones(3)\n",
    "# creates a 1d array of size 3 with initialised as one \n",
    "\n",
    "\n",
    "np.eye(3)\n",
    "#creates a identity matrix of size 3 \n",
    "\n",
    "\n",
    "np.arange(0,5,1)\n",
    "#creates an array of numbers starting from 0 and ending at 5 (exclusive) with step size of 1\n",
    "\n",
    "\n",
    "np.linspace(0,3,100)\n",
    "\n",
    "#creates an array of numbers starting from 0 and ending at 3 (inclusive).length of the array 100\n",
    "\n",
    "\n",
    "np.random.rand(3)\n",
    "\n",
    "#random balues in [0,1]\n",
    "\n",
    "np.random.rand(3,4)\n",
    "#random values in [0,1]but this time it is a 2d array \n",
    "\n",
    "\n",
    "a=3*np.random.rand(5)\n",
    "#random values in [0,3]\n",
    "\n",
    "np.random.randint(1,10,(2,3))\n",
    "#creates random values from 1 to 10 and stores them in a 2d array where the dim of the array is 2,3\n",
    "\n",
    "\n"
   ]
  },
  {
   "cell_type": "code",
   "execution_count": null,
   "metadata": {},
   "outputs": [],
   "source": [
    "\n",
    "#array properties \n",
    "arr = np.array([[1, 2, 3], [3, 4, 5]])\n",
    "\n",
    "print(\"Shape of the array:\", arr.shape)\n",
    "# shape of the array (2, 3)\n",
    "\n",
    "print(\"Dimensions of the array:\", arr.ndim)\n",
    "# dimensions of the array = 2\n",
    "\n",
    "print(\"Number of elements in the array:\", arr.size)\n",
    "# number of elements in the array = 6\n",
    "\n",
    "print(\"Data type of the array:\", arr.dtype)\n",
    "# data type of the array\n",
    "\n",
    "\n",
    "print(\"Total bytes consumed by the array :\",arr.nbytes)\n",
    "\n"
   ]
  }
 ],
 "metadata": {
  "kernelspec": {
   "display_name": "Python 3",
   "language": "python",
   "name": "python3"
  },
  "language_info": {
   "codemirror_mode": {
    "name": "ipython",
    "version": 3
   },
   "file_extension": ".py",
   "mimetype": "text/x-python",
   "name": "python",
   "nbconvert_exporter": "python",
   "pygments_lexer": "ipython3",
   "version": "3.11.0"
  }
 },
 "nbformat": 4,
 "nbformat_minor": 2
}
