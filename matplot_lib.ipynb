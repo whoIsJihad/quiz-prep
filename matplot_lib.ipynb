{
 "cells": [
  {
   "cell_type": "code",
   "execution_count": null,
   "metadata": {},
   "outputs": [],
   "source": [
    "import matplotlib.pyplot as plt\n",
    "import numpy as np\n",
    "#just simple plotting two curves on a single plot \n",
    "# sin and cosine\n",
    "\n",
    "x=np.linspace(0,5,100)\n",
    "y_sin=np.sin(x)\n",
    "y_cos=np.cos(x)\n",
    "\n",
    "plt.plot(x,y_sin,label=\"sin(x)\")\n",
    "plt.plot(x,y_cos,label=\"cos(x)\")\n",
    "\n",
    "plt.xlabel(\"x axis\")\n",
    "plt.ylabel(\"y axis\")\n",
    "plt.title(\"plot of sin(x) and cos(x)\")\n",
    "plt.legend()\n",
    "plt.grid(True)\n",
    "plt.show()"
   ]
  },
  {
   "cell_type": "code",
   "execution_count": null,
   "metadata": {},
   "outputs": [],
   "source": [
    "#plotting in different plots \n",
    "\n",
    "plt.figure()\n",
    "plt.plot(x,y_sin,label='sin_x')\n",
    "plt.title(\"Sine function\")\n",
    "\n",
    "plt.figure()\n",
    "plt.plot(x,y_cos,label=\"cos\")\n",
    "plt.title(\"Cosine function\")\n",
    "plt.show()"
   ]
  },
  {
   "cell_type": "code",
   "execution_count": null,
   "metadata": {},
   "outputs": [],
   "source": [
    "x=np.linspace(0,10,100)\n",
    "y_sin=np.sin(x)\n",
    "plt.plot(x,y_sin)\n",
    "plt.title(\"Scaled Sine Function\")\n",
    "\n",
    "#set axis limits\n",
    "plt.xlim(2,8)\n",
    "plt.ylim(-2,2)\n",
    "# plt.xscale('log')\n",
    "# plt.yscale('log')\n",
    "plt.grid(True)\n",
    "plt.show()"
   ]
  },
  {
   "cell_type": "code",
   "execution_count": null,
   "metadata": {},
   "outputs": [],
   "source": [
    "#creating subplots \n",
    "fig,axes=plt.subplots(3,3,figsize=(10,10))\n",
    "x = np.linspace(0, 2*np.pi, 100)\n",
    "#different functiosn \n",
    "functions = [\n",
    "    np.sin(x),\n",
    "    np.cos(x),\n",
    "    np.tan(x),\n",
    "    np.sin(2*x),\n",
    "    np.cos(2*x),\n",
    "    np.sin(x)*np.cos(x),\n",
    "    np.exp(-x),\n",
    "    np.sin(x)**2,\n",
    "    np.cos(x)**2\n",
    "]\n",
    "\n",
    "#titles \n",
    "titles = [\n",
    "    'sin(x)',\n",
    "    'cos(x)',\n",
    "    'tan(x)',\n",
    "    'sin(2x)',\n",
    "    'cos(2x)',\n",
    "    'sin(x)*cos(x)',\n",
    "    'exp(-x)',\n",
    "    'sin^2(x)',\n",
    "    'cos^2(x)'\n",
    "]\n",
    "\n",
    "axes_flat=axes.flatten()\n",
    "\n",
    "\n",
    "for i,ax in enumerate(axes_flat):\n",
    "    ax.plot(x,functions[i])\n",
    "    ax.set_title(titles[i])\n",
    "    ax.grid(True)\n",
    "    ax.set_xlabel('x')\n",
    "    ax.set_ylabel('f(x)')\n",
    "plt.tight_layout()\n",
    "plt.show()"
   ]
  }
 ],
 "metadata": {
  "kernelspec": {
   "display_name": "Python 3",
   "language": "python",
   "name": "python3"
  },
  "language_info": {
   "codemirror_mode": {
    "name": "ipython",
    "version": 3
   },
   "file_extension": ".py",
   "mimetype": "text/x-python",
   "name": "python",
   "nbconvert_exporter": "python",
   "pygments_lexer": "ipython3",
   "version": "3.11.0"
  }
 },
 "nbformat": 4,
 "nbformat_minor": 2
}
