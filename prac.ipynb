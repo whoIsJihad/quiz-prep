{
 "cells": [
  {
   "cell_type": "code",
   "execution_count": null,
   "metadata": {},
   "outputs": [],
   "source": [
    "#ultra basics ,plotting a sine curve\n",
    "import numpy as np\n",
    "import matplotlib.pyplot as plt\n",
    "\n",
    "def generate_sinusoid(Amplitude,frequency,phase):\n",
    "    t=np.linspace(0,1,1000)\n",
    "    return t,Amplitude*np.sin(2*np.pi*t*frequency+phase)\n",
    "t,signal=generate_sinusoid(10,2,90)\n",
    "t2,signal2=generate_sinusoid(10,4,90)\n",
    "\n",
    "plt.plot(t,signal,label=\"sine signal\")\n",
    "plt.plot(t2,signal2,label=\"sine signal2\")\n",
    "plt.grid(True)\n",
    "\n"
   ]
  },
  {
   "cell_type": "code",
   "execution_count": null,
   "metadata": {},
   "outputs": [],
   "source": [
    "#generate a square signal that alternates between +1 and -1 every 0.1 second\n",
    "t=np.linspace(-5,5,500)\n",
    "square_signal=np.where((t%0.2)<0.1,1,-1)\n",
    "plt.plot(t,square_signal)\n",
    "plt.grid(True)"
   ]
  },
  {
   "cell_type": "code",
   "execution_count": null,
   "metadata": {},
   "outputs": [],
   "source": [
    "#determine whether the function is periodic or aperiodic\n",
    "signal=np.array([2,3,4,2,3,4,2,3,4])\n",
    "\n",
    "def is_signal_periodic(signal):\n",
    "    \"\"\"\n",
    "    Check if a signal is periodic.\n",
    "    \n",
    "    Parameters:\n",
    "        signal (np.ndarray): Input 1D signal.\n",
    "        \n",
    "    Returns:\n",
    "        bool: True if periodic, False otherwise.\n",
    "        int: Period of the signal (if periodic), else None.\n",
    "    \"\"\"\n",
    "    n = len(signal)\n",
    "    for period in range(1, n):  # Check possible periods\n",
    "        if np.array_equal(signal[:n - period], signal[period:]):  # Compare signal segments\n",
    "            return True, period\n",
    "    return False, None\n",
    "\n",
    "print(is_signal_periodic(signal))"
   ]
  },
  {
   "cell_type": "code",
   "execution_count": null,
   "metadata": {},
   "outputs": [],
   "source": [
    "#plotting signals (continous)\n",
    "time=np.linspace(-10,10,100)\n",
    "linear=time\n",
    "shifted_linear=linear+3\n",
    "scaled_linear=2*linear\n",
    "reversed=-time\n",
    "plt.plot(time,linear,label='linear')\n",
    "plt.plot(time,shifted_linear,label='shifted linear')\n",
    "plt.plot(time,scaled_linear,label='scaled linear')\n",
    "plt.plot(time,reversed,label='reversed')\n",
    "plt.grid(True)\n",
    "plt.legend()\n"
   ]
  },
  {
   "cell_type": "code",
   "execution_count": null,
   "metadata": {},
   "outputs": [],
   "source": [
    "time=np.linspace(-10,10,100)\n",
    "shifted_and_scaled=(time-5)/2\n",
    "\n",
    "shifted=time-5\n",
    "then_scaled=shifted/2\n",
    "\n",
    "scaled=time/2\n",
    "then_shifted=scaled-5\n",
    "\n",
    "plt.plot(time,shifted_and_scaled,label='shifted_and_scaled')\n",
    "plt.plot(time,then_scaled,label=\"shifted and then scaled\")\n",
    "plt.plot(time,then_shifted,label=\"scaled and then shifted\")\n",
    "plt.legend()\n",
    "#scaled and then shifted doesnt correspond to the actual value "
   ]
  },
  {
   "cell_type": "code",
   "execution_count": null,
   "metadata": {},
   "outputs": [
    {
     "name": "stdout",
     "output_type": "stream",
     "text": [
      "[7 8 9 4 9 5 6 7 5 6]\n",
      "[4. 9. 5. 6. 7. 5. 6. 0. 0. 0.]\n"
     ]
    }
   ],
   "source": [
    "#discrete signal object\n",
    "import numpy as np\n",
    "\n",
    "class DiscreteSignal:\n",
    "    def __init__(self, INF):\n",
    "        self.INF = INF\n",
    "        self.values = np.random.randint(0, 10, INF)  # Generate random integers between 0 and 10\n",
    "    def shift(self, amount):\n",
    "        if amount>0:\n",
    "            self.values = np.concatenate((np.zeros(amount), self.values[0:self.INF-amount:]))\n",
    "        if amount<0:\n",
    "            amount=-amount\n",
    "            # print(amount)\n",
    "            self.values=np.concatenate((self.values[amount:self.INF],np.zeros(amount)))\n",
    "        \n",
    "    def show(self):\n",
    "        print(self.values)\n",
    "\n",
    "signal = DiscreteSignal(10)\n",
    "signal.show()\n",
    "signal.shift(-3)\n",
    "signal.show()"
   ]
  }
 ],
 "metadata": {
  "kernelspec": {
   "display_name": "Python 3",
   "language": "python",
   "name": "python3"
  },
  "language_info": {
   "codemirror_mode": {
    "name": "ipython",
    "version": 3
   },
   "file_extension": ".py",
   "mimetype": "text/x-python",
   "name": "python",
   "nbconvert_exporter": "python",
   "pygments_lexer": "ipython3",
   "version": "3.11.0"
  }
 },
 "nbformat": 4,
 "nbformat_minor": 2
}
